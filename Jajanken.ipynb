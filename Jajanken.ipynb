{
  "nbformat": 4,
  "nbformat_minor": 0,
  "metadata": {
    "colab": {
      "provenance": [],
      "authorship_tag": "ABX9TyOf0Jyy3O0FIgvcntEusTPU"
    },
    "kernelspec": {
      "name": "python3",
      "display_name": "Python 3"
    },
    "language_info": {
      "name": "python"
    }
  },
  "cells": [
    {
      "cell_type": "code",
      "source": [
        "!wget \"https://raw.githubusercontent.com/Blacklst-Interntl/Blacklist/main/History.py\""
      ],
      "metadata": {
        "id": "vmNYq6D23MCM"
      },
      "execution_count": null,
      "outputs": []
    },
    {
      "cell_type": "code",
      "execution_count": null,
      "metadata": {
        "id": "8G4HrgYo3GvU"
      },
      "outputs": [],
      "source": [
        "import tensorflow as tf"
      ]
    }
  ]
}