{
  "nbformat": 4,
  "nbformat_minor": 0,
  "metadata": {
    "colab": {
      "provenance": [],
      "authorship_tag": "ABX9TyMjdZxrX8/pGs3mAYHZ6guM"
    },
    "kernelspec": {
      "name": "python3",
      "display_name": "Python 3"
    },
    "language_info": {
      "name": "python"
    },
    "accelerator": "GPU",
    "gpuClass": "standard"
  },
  "cells": [
    {
      "cell_type": "code",
      "execution_count": 1,
      "metadata": {
        "colab": {
          "base_uri": "https://localhost:8080/"
        },
        "id": "G2WITZMYojS7",
        "outputId": "56fe30f6-63f8-4d4c-947c-5acf76355d1a"
      },
      "outputs": [
        {
          "output_type": "stream",
          "name": "stdout",
          "text": [
            "2.9.2\n"
          ]
        }
      ],
      "source": [
        "import os\n",
        "import zipfile\n",
        "import tensorflow as tf\n",
        "from tensorflow.keras.utils import image_dataset_from_directory\n",
        "\n",
        "print(tf.__version__)"
      ]
    },
    {
      "cell_type": "code",
      "source": [
        "!wget \"https://github.com/dicodingacademy/assets/releases/download/release/rockpaperscissors.zip\"\n",
        "!unzip \"/content/rockpaperscissors.zip\""
      ],
      "metadata": {
        "id": "ZoB9AWxko0Y_"
      },
      "execution_count": null,
      "outputs": []
    },
    {
      "cell_type": "code",
      "source": [
        "os.listdir(\"/content/rockpaperscissors\")"
      ],
      "metadata": {
        "colab": {
          "base_uri": "https://localhost:8080/"
        },
        "id": "UP2lyVadpN9J",
        "outputId": "8fdd5ca2-4ce5-4b72-8d54-2c767c817c98"
      },
      "execution_count": 3,
      "outputs": [
        {
          "output_type": "execute_result",
          "data": {
            "text/plain": [
              "['README_rpc-cv-images.txt', 'scissors', 'rock', 'rps-cv-images', 'paper']"
            ]
          },
          "metadata": {},
          "execution_count": 3
        }
      ]
    },
    {
      "cell_type": "code",
      "source": [
        "os.listdir(\"/content/rockpaperscissors/rps-cv-images\")"
      ],
      "metadata": {
        "colab": {
          "base_uri": "https://localhost:8080/"
        },
        "id": "Bl0MlQ0GpPhq",
        "outputId": "fdaf810c-a7f6-4f29-a40c-2729515bef01"
      },
      "execution_count": 4,
      "outputs": [
        {
          "output_type": "execute_result",
          "data": {
            "text/plain": [
              "['README_rpc-cv-images.txt', 'scissors', 'rock', 'paper']"
            ]
          },
          "metadata": {},
          "execution_count": 4
        }
      ]
    },
    {
      "cell_type": "code",
      "source": [
        "base_dir = \"/content/rockpaperscissors/rps-cv-images\"\n",
        "\n",
        "train_ds = image_dataset_from_directory(\n",
        "    directory=base_dir,\n",
        "    image_size=(150, 150),\n",
        "    validation_split=0.4,\n",
        "    subset='training',\n",
        "    batch_size=32,\n",
        "    label_mode='categorical',\n",
        "    seed=1234\n",
        ")"
      ],
      "metadata": {
        "colab": {
          "base_uri": "https://localhost:8080/"
        },
        "id": "E7A2DMzVpQv3",
        "outputId": "305f03c8-c489-4ded-9e29-c1d55dda2e50"
      },
      "execution_count": 5,
      "outputs": [
        {
          "output_type": "stream",
          "name": "stdout",
          "text": [
            "Found 2188 files belonging to 3 classes.\n",
            "Using 1313 files for training.\n"
          ]
        }
      ]
    },
    {
      "cell_type": "code",
      "source": [
        "validation_ds = image_dataset_from_directory(\n",
        "    directory=base_dir,\n",
        "    image_size=(150, 150),\n",
        "    validation_split=0.4,\n",
        "    subset='validation',\n",
        "    batch_size=32,\n",
        "    label_mode='categorical',\n",
        "    seed=1234\n",
        ")"
      ],
      "metadata": {
        "colab": {
          "base_uri": "https://localhost:8080/"
        },
        "id": "cY1vv1PApSWo",
        "outputId": "5b48ae67-9f5d-4c60-bea8-c11fd4fc8e1f"
      },
      "execution_count": 6,
      "outputs": [
        {
          "output_type": "stream",
          "name": "stdout",
          "text": [
            "Found 2188 files belonging to 3 classes.\n",
            "Using 875 files for validation.\n"
          ]
        }
      ]
    },
    {
      "cell_type": "code",
      "source": [
        "class_names = train_ds.class_names"
      ],
      "metadata": {
        "id": "_FnvAeJzpTkU"
      },
      "execution_count": 7,
      "outputs": []
    },
    {
      "cell_type": "code",
      "source": [
        "for image_batch, labels_batch in train_ds.take(1):\n",
        "  print(image_batch.shape)\n",
        "  print(labels_batch.shape)"
      ],
      "metadata": {
        "colab": {
          "base_uri": "https://localhost:8080/"
        },
        "id": "hm-lBRrtpX5X",
        "outputId": "df075a1a-b2f4-40e1-86d0-fa05662683a0"
      },
      "execution_count": 8,
      "outputs": [
        {
          "output_type": "stream",
          "name": "stdout",
          "text": [
            "(32, 150, 150, 3)\n",
            "(32, 3)\n"
          ]
        }
      ]
    },
    {
      "cell_type": "code",
      "source": [
        "image_augmentation = tf.keras.models.Sequential([\n",
        "    tf.keras.layers.Rescaling(1./255),\n",
        "    tf.keras.layers.RandomRotation(0.2)\n",
        "], name='image_augmentation')"
      ],
      "metadata": {
        "id": "jRqk8ArZpZM3"
      },
      "execution_count": 9,
      "outputs": []
    },
    {
      "cell_type": "code",
      "source": [
        "train_ds = train_ds.map(\n",
        "    lambda x, y: (image_augmentation(x), y)\n",
        ")"
      ],
      "metadata": {
        "id": "TZk8icuUpcHF"
      },
      "execution_count": 10,
      "outputs": []
    },
    {
      "cell_type": "code",
      "source": [
        "validation_ds = validation_ds.map(\n",
        "    lambda x, y: (image_augmentation(x), y)\n",
        ")"
      ],
      "metadata": {
        "id": "89Zb6hxupdtD"
      },
      "execution_count": 11,
      "outputs": []
    },
    {
      "cell_type": "code",
      "source": [
        "input_layer = tf.keras.layers.Input(shape=(150, 150, 3))\n",
        "x = tf.keras.layers.Conv2D(16, 3, activation=tf.nn.relu)(input_layer)\n",
        "x = tf.keras.layers.MaxPool2D(2, 2)(x)\n",
        "x = tf.keras.layers.Conv2D(32, 3, activation=tf.nn.relu)(x)\n",
        "x = tf.keras.layers.MaxPool2D(2, 2)(x)\n",
        "x = tf.keras.layers.Flatten()(x)\n",
        "x = tf.keras.layers.Dense(units=128, activation=tf.nn.relu)(x)\n",
        "output_layer = tf.keras.layers.Dense(units=3, activation=tf.nn.softmax)(x)\n",
        "\n",
        "\n",
        "sec_cnn_model = tf.keras.Model(inputs=input_layer, outputs=output_layer)"
      ],
      "metadata": {
        "id": "PUKlLdYwpfIC"
      },
      "execution_count": 12,
      "outputs": []
    },
    {
      "cell_type": "code",
      "source": [
        "sec_cnn_model.compile(\n",
        "    optimizer=tf.keras.optimizers.Adam(),\n",
        "    loss='categorical_crossentropy',\n",
        "    metrics=['accuracy']\n",
        ")"
      ],
      "metadata": {
        "id": "1tQB-8wapgZy"
      },
      "execution_count": 13,
      "outputs": []
    },
    {
      "cell_type": "code",
      "source": [
        "filepath = \"/content/model_save\"\n",
        "\n",
        "class MainCallbacks(tf.keras.callbacks.Callback):\n",
        "  def on_epoch_end(self, epoch, logs={}):\n",
        "    if logs.get('accuracy') >= 0.88 and logs.get('val_accuracy') >= 0.90:\n",
        "      self.model.stop_training = True\n",
        "\n",
        "callbacks = MainCallbacks()"
      ],
      "metadata": {
        "id": "K2Ib6mH0phik"
      },
      "execution_count": 14,
      "outputs": []
    },
    {
      "cell_type": "code",
      "source": [
        "history = sec_cnn_model.fit(\n",
        "    train_ds,\n",
        "    validation_data=validation_ds,\n",
        "    epochs = 15,\n",
        "    callbacks=[callbacks],\n",
        "    verbose=2\n",
        ")"
      ],
      "metadata": {
        "colab": {
          "base_uri": "https://localhost:8080/"
        },
        "id": "Ak1q8RSCpmUS",
        "outputId": "dba30720-8067-44e0-c765-6eb0823a2f01"
      },
      "execution_count": 15,
      "outputs": [
        {
          "output_type": "stream",
          "name": "stdout",
          "text": [
            "Epoch 1/15\n",
            "42/42 - 16s - loss: 1.2924 - accuracy: 0.4402 - val_loss: 0.9849 - val_accuracy: 0.4834 - 16s/epoch - 392ms/step\n",
            "Epoch 2/15\n",
            "42/42 - 9s - loss: 0.8886 - accuracy: 0.6154 - val_loss: 0.6874 - val_accuracy: 0.7760 - 9s/epoch - 203ms/step\n",
            "Epoch 3/15\n",
            "42/42 - 7s - loss: 0.6581 - accuracy: 0.7639 - val_loss: 0.6119 - val_accuracy: 0.7360 - 7s/epoch - 179ms/step\n",
            "Epoch 4/15\n",
            "42/42 - 7s - loss: 0.5888 - accuracy: 0.7669 - val_loss: 0.5819 - val_accuracy: 0.7657 - 7s/epoch - 178ms/step\n",
            "Epoch 5/15\n",
            "42/42 - 7s - loss: 0.4864 - accuracy: 0.8073 - val_loss: 0.5867 - val_accuracy: 0.7726 - 7s/epoch - 178ms/step\n",
            "Epoch 6/15\n",
            "42/42 - 7s - loss: 0.4421 - accuracy: 0.8355 - val_loss: 0.4027 - val_accuracy: 0.8491 - 7s/epoch - 178ms/step\n",
            "Epoch 7/15\n",
            "42/42 - 7s - loss: 0.3899 - accuracy: 0.8538 - val_loss: 0.4775 - val_accuracy: 0.8137 - 7s/epoch - 176ms/step\n",
            "Epoch 8/15\n",
            "42/42 - 7s - loss: 0.3887 - accuracy: 0.8599 - val_loss: 0.3625 - val_accuracy: 0.8686 - 7s/epoch - 176ms/step\n",
            "Epoch 9/15\n",
            "42/42 - 7s - loss: 0.3346 - accuracy: 0.8751 - val_loss: 0.3942 - val_accuracy: 0.8560 - 7s/epoch - 177ms/step\n",
            "Epoch 10/15\n",
            "42/42 - 7s - loss: 0.3402 - accuracy: 0.8759 - val_loss: 0.2948 - val_accuracy: 0.9109 - 7s/epoch - 178ms/step\n",
            "Epoch 11/15\n",
            "42/42 - 7s - loss: 0.2493 - accuracy: 0.9162 - val_loss: 0.2824 - val_accuracy: 0.9051 - 7s/epoch - 178ms/step\n"
          ]
        }
      ]
    },
    {
      "cell_type": "code",
      "source": [
        "train = sec_cnn_model.evaluate(train_ds, verbose=0)[-1]\n",
        "valid = sec_cnn_model.evaluate(validation_ds, verbose=0)[-1]\n",
        "\n",
        "print(f\"train : {train}, test : {valid}\")"
      ],
      "metadata": {
        "colab": {
          "base_uri": "https://localhost:8080/"
        },
        "id": "8jYaBzsEpoup",
        "outputId": "575fda35-192e-4afb-921f-83ea795d0f25"
      },
      "execution_count": 16,
      "outputs": [
        {
          "output_type": "stream",
          "name": "stdout",
          "text": [
            "train : 0.914699137210846, test : 0.9142857193946838\n"
          ]
        }
      ]
    },
    {
      "cell_type": "code",
      "source": [
        "!wget \"https://raw.githubusercontent.com/Blacklst-Interntl/Blacklist/main/ml_plot.py\"\n",
        "\n",
        "from ml_plot import History\n",
        "\n",
        "model_plot = History(history)\n",
        "model_plot.acc_plot()"
      ],
      "metadata": {
        "colab": {
          "base_uri": "https://localhost:8080/",
          "height": 502
        },
        "id": "cgE1EabwpqpE",
        "outputId": "659d1b7f-4629-4adb-bf21-a8a93d1e1063"
      },
      "execution_count": 17,
      "outputs": [
        {
          "output_type": "stream",
          "name": "stdout",
          "text": [
            "--2023-01-20 10:30:44--  https://raw.githubusercontent.com/Blacklst-Interntl/Blacklist/main/ml_plot.py\n",
            "Resolving raw.githubusercontent.com (raw.githubusercontent.com)... 185.199.108.133, 185.199.109.133, 185.199.110.133, ...\n",
            "Connecting to raw.githubusercontent.com (raw.githubusercontent.com)|185.199.108.133|:443... connected.\n",
            "HTTP request sent, awaiting response... 200 OK\n",
            "Length: 1537 (1.5K) [text/plain]\n",
            "Saving to: ‘ml_plot.py’\n",
            "\n",
            "ml_plot.py          100%[===================>]   1.50K  --.-KB/s    in 0s      \n",
            "\n",
            "2023-01-20 10:30:44 (28.9 MB/s) - ‘ml_plot.py’ saved [1537/1537]\n",
            "\n"
          ]
        },
        {
          "output_type": "display_data",
          "data": {
            "text/plain": [
              "<Figure size 432x288 with 1 Axes>"
            ],
            "image/png": "[encoded data removed]"
          },
          "metadata": {}
        }
      ]
    },
    {
      "cell_type": "code",
      "source": [
        "model_plot.loss_plot()"
      ],
      "metadata": {
        "colab": {
          "base_uri": "https://localhost:8080/",
          "height": 291
        },
        "id": "3eWJSjPrprAN",
        "outputId": "c2e02ada-d5f6-4630-e2d3-d88960cda20e"
      },
      "execution_count": 18,
      "outputs": [
        {
          "output_type": "display_data",
          "data": {
            "text/plain": [
              "<Figure size 432x288 with 1 Axes>"
            ],
            "image/png": "[encoded data removed]"
          },
          "metadata": {}
        }
      ]
    },
    {
      "cell_type": "code",
      "source": [
        "sec_cnn_model.save(\"rps_cnn.h5\")"
      ],
      "metadata": {
        "id": "WeZ_wQYdshXb"
      },
      "execution_count": 19,
      "outputs": []
    },
    {
      "cell_type": "code",
      "source": [
        "!mkdir \"rps_cnn_model\"\n",
        "\n",
        "tf.saved_model.save(sec_cnn_model, \"/content/rps_cnn_model\")"
      ],
      "metadata": {
        "colab": {
          "base_uri": "https://localhost:8080/"
        },
        "id": "bFahApPptEhW",
        "outputId": "4a2b2f29-6ddc-43d5-c9b4-bbf3aff48525"
      },
      "execution_count": 20,
      "outputs": [
        {
          "output_type": "stream",
          "name": "stderr",
          "text": [
            "WARNING:absl:Found untraced functions such as _jit_compiled_convolution_op, _jit_compiled_convolution_op while saving (showing 2 of 2). These functions will not be directly callable after loading.\n"
          ]
        }
      ]
    },
    {
      "cell_type": "code",
      "source": [
        "converter = tf.lite.TFLiteConverter.from_saved_model(\"/content/rps_cnn_model\")\n",
        "tflite_model = converter.convert()\n",
        "\n",
        "# Save the model.\n",
        "with open('model.tflite', 'wb') as f:\n",
        "  f.write(tflite_model)\n",
        "\n",
        "!mkdir tf_lite\n",
        "!mv model.tflite /content/tf_lite"
      ],
      "metadata": {
        "id": "E4DM7xXIsp-S"
      },
      "execution_count": 21,
      "outputs": []
    }
  ]
}