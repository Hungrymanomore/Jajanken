{
  "nbformat": 4,
  "nbformat_minor": 0,
  "metadata": {
    "colab": {
      "provenance": [],
      "authorship_tag": "ABX9TyNm0k1hDFblu+W08USwQX7y"
    },
    "kernelspec": {
      "name": "python3",
      "display_name": "Python 3"
    },
    "language_info": {
      "name": "python"
    },
    "accelerator": "GPU",
    "gpuClass": "standard"
  },
  "cells": [
    {
      "cell_type": "code",
      "execution_count": 1,
      "metadata": {
        "colab": {
          "base_uri": "https://localhost:8080/"
        },
        "id": "G2WITZMYojS7",
        "outputId": "84ff5f1a-3718-4c19-8cc5-a898bc9284a5"
      },
      "outputs": [
        {
          "output_type": "stream",
          "name": "stdout",
          "text": [
            "2.9.2\n"
          ]
        }
      ],
      "source": [
        "import os\n",
        "import zipfile\n",
        "import tensorflow as tf\n",
        "from tensorflow.keras.utils import image_dataset_from_directory\n",
        "\n",
        "print(tf.__version__)"
      ]
    },
    {
      "cell_type": "code",
      "source": [
        "!wget \"https://github.com/dicodingacademy/assets/releases/download/release/rockpaperscissors.zip\"\n",
        "!unzip \"/content/rockpaperscissors.zip\""
      ],
      "metadata": {
        "id": "ZoB9AWxko0Y_"
      },
      "execution_count": null,
      "outputs": []
    },
    {
      "cell_type": "code",
      "source": [
        "os.listdir(\"/content/rockpaperscissors\")"
      ],
      "metadata": {
        "colab": {
          "base_uri": "https://localhost:8080/"
        },
        "id": "UP2lyVadpN9J",
        "outputId": "73f9db13-ca23-46f7-969c-df289d7015a1"
      },
      "execution_count": 3,
      "outputs": [
        {
          "output_type": "execute_result",
          "data": {
            "text/plain": [
              "['README_rpc-cv-images.txt', 'scissors', 'rock', 'rps-cv-images', 'paper']"
            ]
          },
          "metadata": {},
          "execution_count": 3
        }
      ]
    },
    {
      "cell_type": "code",
      "source": [
        "os.listdir(\"/content/rockpaperscissors/rps-cv-images\")"
      ],
      "metadata": {
        "colab": {
          "base_uri": "https://localhost:8080/"
        },
        "id": "Bl0MlQ0GpPhq",
        "outputId": "c75c4759-359a-4a6f-d691-1f43ff751709"
      },
      "execution_count": 4,
      "outputs": [
        {
          "output_type": "execute_result",
          "data": {
            "text/plain": [
              "['README_rpc-cv-images.txt', 'scissors', 'rock', 'paper']"
            ]
          },
          "metadata": {},
          "execution_count": 4
        }
      ]
    },
    {
      "cell_type": "code",
      "source": [
        "base_dir = \"/content/rockpaperscissors/rps-cv-images\"\n",
        "\n",
        "train_ds = image_dataset_from_directory(\n",
        "    directory=base_dir,\n",
        "    image_size=(150, 150),\n",
        "    validation_split=0.4,\n",
        "    subset='training',\n",
        "    batch_size=32,\n",
        "    label_mode='categorical',\n",
        "    seed=1234\n",
        ")"
      ],
      "metadata": {
        "colab": {
          "base_uri": "https://localhost:8080/"
        },
        "id": "E7A2DMzVpQv3",
        "outputId": "c76d8198-3a71-4bd9-ff23-f2aff373b396"
      },
      "execution_count": 5,
      "outputs": [
        {
          "output_type": "stream",
          "name": "stdout",
          "text": [
            "Found 2188 files belonging to 3 classes.\n",
            "Using 1313 files for training.\n"
          ]
        }
      ]
    },
    {
      "cell_type": "code",
      "source": [
        "validation_ds = image_dataset_from_directory(\n",
        "    directory=base_dir,\n",
        "    image_size=(150, 150),\n",
        "    validation_split=0.4,\n",
        "    subset='validation',\n",
        "    batch_size=32,\n",
        "    label_mode='categorical',\n",
        "    seed=1234\n",
        ")"
      ],
      "metadata": {
        "colab": {
          "base_uri": "https://localhost:8080/"
        },
        "id": "cY1vv1PApSWo",
        "outputId": "d66ff23b-2a34-4824-d962-4fffd94b3e8d"
      },
      "execution_count": 6,
      "outputs": [
        {
          "output_type": "stream",
          "name": "stdout",
          "text": [
            "Found 2188 files belonging to 3 classes.\n",
            "Using 875 files for validation.\n"
          ]
        }
      ]
    },
    {
      "cell_type": "code",
      "source": [
        "class_names = train_ds.class_names"
      ],
      "metadata": {
        "id": "_FnvAeJzpTkU"
      },
      "execution_count": 7,
      "outputs": []
    },
    {
      "cell_type": "code",
      "source": [
        "for image_batch, labels_batch in train_ds.take(1):\n",
        "  print(image_batch.shape)\n",
        "  print(labels_batch.shape)"
      ],
      "metadata": {
        "colab": {
          "base_uri": "https://localhost:8080/"
        },
        "id": "hm-lBRrtpX5X",
        "outputId": "89e0fb47-db2d-4006-a967-1edb897cbd46"
      },
      "execution_count": 8,
      "outputs": [
        {
          "output_type": "stream",
          "name": "stdout",
          "text": [
            "(32, 150, 150, 3)\n",
            "(32, 3)\n"
          ]
        }
      ]
    },
    {
      "cell_type": "code",
      "source": [
        "image_augmentation = tf.keras.models.Sequential([\n",
        "    tf.keras.layers.Rescaling(1./255),\n",
        "    tf.keras.layers.RandomRotation(0.2)\n",
        "], name='image_augmentation')"
      ],
      "metadata": {
        "id": "jRqk8ArZpZM3"
      },
      "execution_count": 9,
      "outputs": []
    },
    {
      "cell_type": "code",
      "source": [
        "train_ds = train_ds.map(\n",
        "    lambda x, y: (image_augmentation(x), y)\n",
        ")"
      ],
      "metadata": {
        "id": "TZk8icuUpcHF"
      },
      "execution_count": 10,
      "outputs": []
    },
    {
      "cell_type": "code",
      "source": [
        "validation_ds = validation_ds.map(\n",
        "    lambda x, y: (image_augmentation(x), y)\n",
        ")"
      ],
      "metadata": {
        "id": "89Zb6hxupdtD"
      },
      "execution_count": 11,
      "outputs": []
    },
    {
      "cell_type": "code",
      "source": [
        "input_layer = tf.keras.layers.Input(shape=(150, 150, 3))\n",
        "x = tf.keras.layers.Conv2D(16, 3, activation=tf.nn.relu)(input_layer)\n",
        "x = tf.keras.layers.MaxPool2D(2, 2)(x)\n",
        "x = tf.keras.layers.Conv2D(32, 3, activation=tf.nn.relu)(x)\n",
        "x = tf.keras.layers.MaxPool2D(2, 2)(x)\n",
        "x = tf.keras.layers.Flatten()(x)\n",
        "x = tf.keras.layers.Dense(units=128, activation=tf.nn.relu)(x)\n",
        "output_layer = tf.keras.layers.Dense(units=3, activation=tf.nn.softmax)(x)\n",
        "\n",
        "\n",
        "sec_cnn_model = tf.keras.Model(inputs=input_layer, outputs=output_layer)"
      ],
      "metadata": {
        "id": "PUKlLdYwpfIC"
      },
      "execution_count": 12,
      "outputs": []
    },
    {
      "cell_type": "code",
      "source": [
        "sec_cnn_model.compile(\n",
        "    optimizer=tf.keras.optimizers.Adam(),\n",
        "    loss='categorical_crossentropy',\n",
        "    metrics=['accuracy']\n",
        ")"
      ],
      "metadata": {
        "id": "1tQB-8wapgZy"
      },
      "execution_count": 13,
      "outputs": []
    },
    {
      "cell_type": "code",
      "source": [
        "filepath = \"/content/model_save\"\n",
        "\n",
        "class MainCallbacks(tf.keras.callbacks.Callback):\n",
        "  def on_epoch_end(self, epoch, logs={}):\n",
        "    if logs.get('accuracy') >= 0.88 and logs.get('val_accuracy') >= 0.90:\n",
        "      self.model.stop_training = True\n",
        "\n",
        "callbacks = MainCallbacks()"
      ],
      "metadata": {
        "id": "K2Ib6mH0phik"
      },
      "execution_count": 14,
      "outputs": []
    },
    {
      "cell_type": "code",
      "source": [
        "history = sec_cnn_model.fit(\n",
        "    train_ds,\n",
        "    validation_data=validation_ds,\n",
        "    epochs = 15,\n",
        "    callbacks=[callbacks],\n",
        "    verbose=2\n",
        ")"
      ],
      "metadata": {
        "colab": {
          "base_uri": "https://localhost:8080/"
        },
        "id": "Ak1q8RSCpmUS",
        "outputId": "c554bbc7-730c-4efc-f8a2-adbadf7b460d"
      },
      "execution_count": 15,
      "outputs": [
        {
          "output_type": "stream",
          "name": "stdout",
          "text": [
            "Epoch 1/15\n",
            "42/42 - 16s - loss: 1.3261 - accuracy: 0.4326 - val_loss: 0.9238 - val_accuracy: 0.5189 - 16s/epoch - 390ms/step\n",
            "Epoch 2/15\n",
            "42/42 - 8s - loss: 0.8568 - accuracy: 0.6314 - val_loss: 0.7317 - val_accuracy: 0.7371 - 8s/epoch - 180ms/step\n",
            "Epoch 3/15\n",
            "42/42 - 8s - loss: 0.6573 - accuracy: 0.7555 - val_loss: 0.5881 - val_accuracy: 0.7600 - 8s/epoch - 187ms/step\n",
            "Epoch 4/15\n",
            "42/42 - 8s - loss: 0.5258 - accuracy: 0.8012 - val_loss: 0.6905 - val_accuracy: 0.7120 - 8s/epoch - 179ms/step\n",
            "Epoch 5/15\n",
            "42/42 - 8s - loss: 0.4774 - accuracy: 0.8195 - val_loss: 0.4705 - val_accuracy: 0.8103 - 8s/epoch - 181ms/step\n",
            "Epoch 6/15\n",
            "42/42 - 8s - loss: 0.3930 - accuracy: 0.8492 - val_loss: 0.3758 - val_accuracy: 0.8697 - 8s/epoch - 180ms/step\n",
            "Epoch 7/15\n",
            "42/42 - 8s - loss: 0.3671 - accuracy: 0.8637 - val_loss: 0.3217 - val_accuracy: 0.8891 - 8s/epoch - 180ms/step\n",
            "Epoch 8/15\n",
            "42/42 - 8s - loss: 0.3582 - accuracy: 0.8743 - val_loss: 0.3738 - val_accuracy: 0.8663 - 8s/epoch - 179ms/step\n",
            "Epoch 9/15\n",
            "42/42 - 8s - loss: 0.3212 - accuracy: 0.8865 - val_loss: 0.6171 - val_accuracy: 0.7406 - 8s/epoch - 180ms/step\n",
            "Epoch 10/15\n",
            "42/42 - 8s - loss: 0.4503 - accuracy: 0.8347 - val_loss: 0.3932 - val_accuracy: 0.8514 - 8s/epoch - 179ms/step\n",
            "Epoch 11/15\n",
            "42/42 - 7s - loss: 0.3605 - accuracy: 0.8667 - val_loss: 0.3363 - val_accuracy: 0.8914 - 7s/epoch - 178ms/step\n",
            "Epoch 12/15\n",
            "42/42 - 8s - loss: 0.2679 - accuracy: 0.8949 - val_loss: 0.2649 - val_accuracy: 0.9097 - 8s/epoch - 180ms/step\n"
          ]
        }
      ]
    },
    {
      "cell_type": "code",
      "source": [
        "train = sec_cnn_model.evaluate(train_ds, verbose=0)[-1]\n",
        "valid = sec_cnn_model.evaluate(validation_ds, verbose=0)[-1]\n",
        "\n",
        "print(f\"train : {train}, test : {valid}\")"
      ],
      "metadata": {
        "colab": {
          "base_uri": "https://localhost:8080/"
        },
        "id": "8jYaBzsEpoup",
        "outputId": "a4089cb5-a20e-4674-edc3-01f187b6730a"
      },
      "execution_count": 16,
      "outputs": [
        {
          "output_type": "stream",
          "name": "stdout",
          "text": [
            "train : 0.9383091926574707, test : 0.9074285626411438\n"
          ]
        }
      ]
    },
    {
      "cell_type": "code",
      "source": [
        "!wget \"https://raw.githubusercontent.com/Blacklst-Interntl/Blacklist/main/ml_plot.py\"\n",
        "\n",
        "from ml_plot import History\n",
        "\n",
        "model_plot = History(history)\n",
        "model_plot.acc_plot()"
      ],
      "metadata": {
        "colab": {
          "base_uri": "https://localhost:8080/",
          "height": 492
        },
        "id": "cgE1EabwpqpE",
        "outputId": "f0468c0e-1ef2-428c-df9b-a237719ae59f"
      },
      "execution_count": 17,
      "outputs": [
        {
          "output_type": "stream",
          "name": "stdout",
          "text": [
            "--2023-01-20 10:17:55--  https://raw.githubusercontent.com/Blacklst-Interntl/Blacklist/main/ml_plot.py\n",
            "Resolving raw.githubusercontent.com (raw.githubusercontent.com)... 185.199.108.133, 185.199.109.133, 185.199.110.133, ...\n",
            "Connecting to raw.githubusercontent.com (raw.githubusercontent.com)|185.199.108.133|:443... connected.\n",
            "HTTP request sent, awaiting response... 200 OK\n",
            "Length: 1537 (1.5K) [text/plain]\n",
            "Saving to: ‘ml_plot.py’\n",
            "\n",
            "ml_plot.py          100%[===================>]   1.50K  --.-KB/s    in 0s      \n",
            "\n",
            "2023-01-20 10:17:56 (21.9 MB/s) - ‘ml_plot.py’ saved [1537/1537]\n",
            "\n"
          ]
        },
        {
          "output_type": "display_data",
          "data": {
            "text/plain": [
              "<Figure size 432x288 with 1 Axes>"
            ],
            "image/png": "[encoded data removed]"
          },
          "metadata": {}
        }
      ]
    },
    {
      "cell_type": "code",
      "source": [
        "model_plot.loss_plot()"
      ],
      "metadata": {
        "colab": {
          "base_uri": "https://localhost:8080/",
          "height": 291
        },
        "id": "3eWJSjPrprAN",
        "outputId": "32ff1f4f-8a7c-455a-d07e-1df7af14f354"
      },
      "execution_count": 18,
      "outputs": [
        {
          "output_type": "display_data",
          "data": {
            "text/plain": [
              "<Figure size 432x288 with 1 Axes>"
            ],
            "image/png": "[encoded data removed]"
          },
          "metadata": {}
        }
      ]
    }
  ]
}